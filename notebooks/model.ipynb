{
 "metadata": {
  "language_info": {
   "codemirror_mode": {
    "name": "ipython",
    "version": 3
   },
   "file_extension": ".py",
   "mimetype": "text/x-python",
   "name": "python",
   "nbconvert_exporter": "python",
   "pygments_lexer": "ipython3",
   "version": "3.9.3"
  },
  "orig_nbformat": 2,
  "kernelspec": {
   "name": "python3",
   "display_name": "Python 3",
   "language": "python"
  }
 },
 "nbformat": 4,
 "nbformat_minor": 2,
 "cells": [
  {
   "cell_type": "code",
   "execution_count": 1,
   "metadata": {},
   "outputs": [],
   "source": [
    "import pandas as pd\n",
    "import matplotlib.pyplot as plt\n",
    "import warnings\n",
    "from sklearn.linear_model import LinearRegression\n",
    "import sklearn.metrics as sm\n",
    "warnings.filterwarnings('once')\n",
    "%matplotlib inline"
   ]
  },
  {
   "cell_type": "code",
   "execution_count": 2,
   "metadata": {},
   "outputs": [
    {
     "output_type": "stream",
     "name": "stderr",
     "text": [
      "/home/sylvia/projects/air-pollution/air-pollution-env/lib/python3.9/site-packages/ipykernel/ipkernel.py:283: DeprecationWarning: `should_run_async` will not call `transform_cell` automatically in the future. Please pass the result to `transformed_cell` argument and any exception that happen during thetransform in `preprocessing_exc_tuple` in IPython 7.17 and above.\n  and should_run_async(code)\n"
     ]
    },
    {
     "output_type": "execute_result",
     "data": {
      "text/plain": [
       "        Place_ID X Date        Date Place_ID  target  target_min  target_max  \\\n",
       "0  010Q650 X 2020-01-02  2020-01-02  010Q650    38.0        23.0        53.0   \n",
       "1  010Q650 X 2020-01-03  2020-01-03  010Q650    39.0        25.0        63.0   \n",
       "2  010Q650 X 2020-01-04  2020-01-04  010Q650    24.0         8.0        56.0   \n",
       "3  010Q650 X 2020-01-05  2020-01-05  010Q650    49.0        10.0        55.0   \n",
       "4  010Q650 X 2020-01-06  2020-01-06  010Q650    21.0         9.0        52.0   \n",
       "\n",
       "   target_variance  target_count  precipitable_water_entire_atmosphere  \\\n",
       "0           769.50            92                             11.000000   \n",
       "1          1319.85            91                             14.600000   \n",
       "2          1181.96            96                             16.400000   \n",
       "3          1113.67            96                              6.911948   \n",
       "4          1164.82            95                             13.900001   \n",
       "\n",
       "   relative_humidity_2m_above_ground  ...  L3_SO2_sensor_zenith_angle  \\\n",
       "0                          60.200001  ...                   38.593017   \n",
       "1                          48.799999  ...                   59.624912   \n",
       "2                          33.400002  ...                   49.839714   \n",
       "3                          21.300001  ...                   29.181258   \n",
       "4                          44.700001  ...                    0.797294   \n",
       "\n",
       "   L3_SO2_solar_azimuth_angle  L3_SO2_solar_zenith_angle  \\\n",
       "0                  -61.752587                  22.363665   \n",
       "1                  -67.693509                  28.614804   \n",
       "2                  -78.342701                  34.296977   \n",
       "3                  -73.896588                  30.545446   \n",
       "4                  -68.612480                  26.899694   \n",
       "\n",
       "   L3_CH4_CH4_column_volume_mixing_ratio_dry_air  L3_CH4_aerosol_height  \\\n",
       "0                                    1793.793579            3227.855469   \n",
       "1                                    1789.960449            3384.226562   \n",
       "2                                            NaN                    NaN   \n",
       "3                                            NaN                    NaN   \n",
       "4                                            NaN                    NaN   \n",
       "\n",
       "   L3_CH4_aerosol_optical_depth  L3_CH4_sensor_azimuth_angle  \\\n",
       "0                      0.010579                    74.481049   \n",
       "1                      0.015104                    75.630043   \n",
       "2                           NaN                          NaN   \n",
       "3                           NaN                          NaN   \n",
       "4                           NaN                          NaN   \n",
       "\n",
       "   L3_CH4_sensor_zenith_angle  L3_CH4_solar_azimuth_angle  \\\n",
       "0                   37.501499                  -62.142639   \n",
       "1                   55.657486                  -53.868134   \n",
       "2                         NaN                         NaN   \n",
       "3                         NaN                         NaN   \n",
       "4                         NaN                         NaN   \n",
       "\n",
       "   L3_CH4_solar_zenith_angle  \n",
       "0                  22.545118  \n",
       "1                  19.293652  \n",
       "2                        NaN  \n",
       "3                        NaN  \n",
       "4                        NaN  \n",
       "\n",
       "[5 rows x 82 columns]"
      ],
      "text/html": "<div>\n<style scoped>\n    .dataframe tbody tr th:only-of-type {\n        vertical-align: middle;\n    }\n\n    .dataframe tbody tr th {\n        vertical-align: top;\n    }\n\n    .dataframe thead th {\n        text-align: right;\n    }\n</style>\n<table border=\"1\" class=\"dataframe\">\n  <thead>\n    <tr style=\"text-align: right;\">\n      <th></th>\n      <th>Place_ID X Date</th>\n      <th>Date</th>\n      <th>Place_ID</th>\n      <th>target</th>\n      <th>target_min</th>\n      <th>target_max</th>\n      <th>target_variance</th>\n      <th>target_count</th>\n      <th>precipitable_water_entire_atmosphere</th>\n      <th>relative_humidity_2m_above_ground</th>\n      <th>...</th>\n      <th>L3_SO2_sensor_zenith_angle</th>\n      <th>L3_SO2_solar_azimuth_angle</th>\n      <th>L3_SO2_solar_zenith_angle</th>\n      <th>L3_CH4_CH4_column_volume_mixing_ratio_dry_air</th>\n      <th>L3_CH4_aerosol_height</th>\n      <th>L3_CH4_aerosol_optical_depth</th>\n      <th>L3_CH4_sensor_azimuth_angle</th>\n      <th>L3_CH4_sensor_zenith_angle</th>\n      <th>L3_CH4_solar_azimuth_angle</th>\n      <th>L3_CH4_solar_zenith_angle</th>\n    </tr>\n  </thead>\n  <tbody>\n    <tr>\n      <th>0</th>\n      <td>010Q650 X 2020-01-02</td>\n      <td>2020-01-02</td>\n      <td>010Q650</td>\n      <td>38.0</td>\n      <td>23.0</td>\n      <td>53.0</td>\n      <td>769.50</td>\n      <td>92</td>\n      <td>11.000000</td>\n      <td>60.200001</td>\n      <td>...</td>\n      <td>38.593017</td>\n      <td>-61.752587</td>\n      <td>22.363665</td>\n      <td>1793.793579</td>\n      <td>3227.855469</td>\n      <td>0.010579</td>\n      <td>74.481049</td>\n      <td>37.501499</td>\n      <td>-62.142639</td>\n      <td>22.545118</td>\n    </tr>\n    <tr>\n      <th>1</th>\n      <td>010Q650 X 2020-01-03</td>\n      <td>2020-01-03</td>\n      <td>010Q650</td>\n      <td>39.0</td>\n      <td>25.0</td>\n      <td>63.0</td>\n      <td>1319.85</td>\n      <td>91</td>\n      <td>14.600000</td>\n      <td>48.799999</td>\n      <td>...</td>\n      <td>59.624912</td>\n      <td>-67.693509</td>\n      <td>28.614804</td>\n      <td>1789.960449</td>\n      <td>3384.226562</td>\n      <td>0.015104</td>\n      <td>75.630043</td>\n      <td>55.657486</td>\n      <td>-53.868134</td>\n      <td>19.293652</td>\n    </tr>\n    <tr>\n      <th>2</th>\n      <td>010Q650 X 2020-01-04</td>\n      <td>2020-01-04</td>\n      <td>010Q650</td>\n      <td>24.0</td>\n      <td>8.0</td>\n      <td>56.0</td>\n      <td>1181.96</td>\n      <td>96</td>\n      <td>16.400000</td>\n      <td>33.400002</td>\n      <td>...</td>\n      <td>49.839714</td>\n      <td>-78.342701</td>\n      <td>34.296977</td>\n      <td>NaN</td>\n      <td>NaN</td>\n      <td>NaN</td>\n      <td>NaN</td>\n      <td>NaN</td>\n      <td>NaN</td>\n      <td>NaN</td>\n    </tr>\n    <tr>\n      <th>3</th>\n      <td>010Q650 X 2020-01-05</td>\n      <td>2020-01-05</td>\n      <td>010Q650</td>\n      <td>49.0</td>\n      <td>10.0</td>\n      <td>55.0</td>\n      <td>1113.67</td>\n      <td>96</td>\n      <td>6.911948</td>\n      <td>21.300001</td>\n      <td>...</td>\n      <td>29.181258</td>\n      <td>-73.896588</td>\n      <td>30.545446</td>\n      <td>NaN</td>\n      <td>NaN</td>\n      <td>NaN</td>\n      <td>NaN</td>\n      <td>NaN</td>\n      <td>NaN</td>\n      <td>NaN</td>\n    </tr>\n    <tr>\n      <th>4</th>\n      <td>010Q650 X 2020-01-06</td>\n      <td>2020-01-06</td>\n      <td>010Q650</td>\n      <td>21.0</td>\n      <td>9.0</td>\n      <td>52.0</td>\n      <td>1164.82</td>\n      <td>95</td>\n      <td>13.900001</td>\n      <td>44.700001</td>\n      <td>...</td>\n      <td>0.797294</td>\n      <td>-68.612480</td>\n      <td>26.899694</td>\n      <td>NaN</td>\n      <td>NaN</td>\n      <td>NaN</td>\n      <td>NaN</td>\n      <td>NaN</td>\n      <td>NaN</td>\n      <td>NaN</td>\n    </tr>\n  </tbody>\n</table>\n<p>5 rows × 82 columns</p>\n</div>"
     },
     "metadata": {},
     "execution_count": 2
    }
   ],
   "source": [
    "pollution_df = pd.read_csv(\"../Train.csv\")\n",
    "pollution_df.head()"
   ]
  },
  {
   "cell_type": "code",
   "execution_count": 3,
   "metadata": {},
   "outputs": [
    {
     "output_type": "stream",
     "name": "stderr",
     "text": [
      "/home/sylvia/projects/air-pollution/air-pollution-env/lib/python3.9/site-packages/ipykernel/ipkernel.py:283: DeprecationWarning: `should_run_async` will not call `transform_cell` automatically in the future. Please pass the result to `transformed_cell` argument and any exception that happen during thetransform in `preprocessing_exc_tuple` in IPython 7.17 and above.\n  and should_run_async(code)\n"
     ]
    }
   ],
   "source": [
    "columns = ['precipitable_water_entire_atmosphere',\n",
    "       'relative_humidity_2m_above_ground',\n",
    "       'specific_humidity_2m_above_ground', 'temperature_2m_above_ground',\n",
    "       'u_component_of_wind_10m_above_ground',\n",
    "       'v_component_of_wind_10m_above_ground',\n",
    "       'L3_NO2_NO2_column_number_density',\n",
    "       'L3_NO2_NO2_slant_column_number_density',\n",
    "       'L3_NO2_absorbing_aerosol_index', 'L3_NO2_cloud_fraction',\n",
    "       'L3_NO2_sensor_altitude', 'L3_NO2_sensor_azimuth_angle',\n",
    "       'L3_NO2_sensor_zenith_angle', 'L3_NO2_solar_azimuth_angle',\n",
    "       'L3_NO2_solar_zenith_angle',\n",
    "       'L3_NO2_stratospheric_NO2_column_number_density',\n",
    "       'L3_NO2_tropopause_pressure',\n",
    "       'L3_NO2_tropospheric_NO2_column_number_density',\n",
    "       'L3_O3_O3_column_number_density', 'L3_O3_O3_effective_temperature',\n",
    "       'L3_O3_cloud_fraction', 'L3_O3_sensor_azimuth_angle',\n",
    "       'L3_O3_sensor_zenith_angle', 'L3_O3_solar_azimuth_angle',\n",
    "       'L3_O3_solar_zenith_angle', 'L3_CO_CO_column_number_density',\n",
    "       'L3_CO_H2O_column_number_density', 'L3_CO_cloud_height',\n",
    "       'L3_CO_sensor_altitude', 'L3_CO_sensor_azimuth_angle',\n",
    "       'L3_CO_sensor_zenith_angle', 'L3_CO_solar_azimuth_angle',\n",
    "       'L3_CO_solar_zenith_angle', 'L3_HCHO_HCHO_slant_column_number_density',\n",
    "       'L3_HCHO_cloud_fraction', 'L3_HCHO_sensor_azimuth_angle',\n",
    "       'L3_HCHO_sensor_zenith_angle', 'L3_HCHO_solar_azimuth_angle',\n",
    "       'L3_HCHO_solar_zenith_angle',\n",
    "       'L3_HCHO_tropospheric_HCHO_column_number_density',\n",
    "       'L3_HCHO_tropospheric_HCHO_column_number_density_amf',\n",
    "       'L3_CLOUD_cloud_base_height', 'L3_CLOUD_cloud_base_pressure',\n",
    "       'L3_CLOUD_cloud_fraction', 'L3_CLOUD_cloud_optical_depth',\n",
    "       'L3_CLOUD_cloud_top_height', 'L3_CLOUD_cloud_top_pressure',\n",
    "       'L3_CLOUD_sensor_azimuth_angle', 'L3_CLOUD_sensor_zenith_angle',\n",
    "       'L3_CLOUD_solar_azimuth_angle', 'L3_CLOUD_solar_zenith_angle',\n",
    "       'L3_CLOUD_surface_albedo', 'L3_AER_AI_absorbing_aerosol_index',\n",
    "       'L3_AER_AI_sensor_altitude', 'L3_AER_AI_sensor_azimuth_angle',\n",
    "       'L3_AER_AI_sensor_zenith_angle', 'L3_AER_AI_solar_azimuth_angle',\n",
    "       'L3_AER_AI_solar_zenith_angle', 'L3_SO2_SO2_column_number_density',\n",
    "       'L3_SO2_SO2_column_number_density_amf',\n",
    "       'L3_SO2_SO2_slant_column_number_density',\n",
    "       'L3_SO2_absorbing_aerosol_index', 'L3_SO2_cloud_fraction',\n",
    "       'L3_SO2_sensor_azimuth_angle', 'L3_SO2_sensor_zenith_angle',\n",
    "       'L3_SO2_solar_azimuth_angle', 'L3_SO2_solar_zenith_angle',\n",
    "       'L3_CH4_CH4_column_volume_mixing_ratio_dry_air',\n",
    "       'L3_CH4_aerosol_height', 'L3_CH4_aerosol_optical_depth',\n",
    "       'L3_CH4_sensor_azimuth_angle', 'L3_CH4_sensor_zenith_angle',\n",
    "       'L3_CH4_solar_azimuth_angle', 'L3_CH4_solar_zenith_angle']"
   ]
  },
  {
   "cell_type": "code",
   "execution_count": 4,
   "metadata": {},
   "outputs": [
    {
     "output_type": "execute_result",
     "data": {
      "text/plain": [
       "74"
      ]
     },
     "metadata": {},
     "execution_count": 4
    }
   ],
   "source": [
    "len(columns)"
   ]
  },
  {
   "cell_type": "code",
   "execution_count": 11,
   "metadata": {},
   "outputs": [
    {
     "output_type": "stream",
     "name": "stderr",
     "text": [
      "/home/sylvia/projects/air-pollution/air-pollution-env/lib/python3.9/site-packages/ipykernel/ipkernel.py:283: DeprecationWarning: `should_run_async` will not call `transform_cell` automatically in the future. Please pass the result to `transformed_cell` argument and any exception that happen during thetransform in `preprocessing_exc_tuple` in IPython 7.17 and above.\n  and should_run_async(code)\n"
     ]
    }
   ],
   "source": [
    "pollution_df = pollution_df.fillna(pollution_df.mean())"
   ]
  },
  {
   "cell_type": "code",
   "execution_count": 14,
   "metadata": {},
   "outputs": [
    {
     "output_type": "stream",
     "name": "stderr",
     "text": [
      "/home/sylvia/projects/air-pollution/air-pollution-env/lib/python3.9/site-packages/ipykernel/ipkernel.py:283: DeprecationWarning: `should_run_async` will not call `transform_cell` automatically in the future. Please pass the result to `transformed_cell` argument and any exception that happen during thetransform in `preprocessing_exc_tuple` in IPython 7.17 and above.\n  and should_run_async(code)\n"
     ]
    }
   ],
   "source": [
    "X = pollution_df[columns].values\n",
    "y = pollution_df['target']"
   ]
  },
  {
   "cell_type": "code",
   "execution_count": 15,
   "metadata": {},
   "outputs": [],
   "source": [
    "reg = LinearRegression().fit(X, y)"
   ]
  },
  {
   "cell_type": "code",
   "execution_count": 16,
   "metadata": {},
   "outputs": [
    {
     "output_type": "stream",
     "name": "stderr",
     "text": [
      "/home/sylvia/projects/air-pollution/air-pollution-env/lib/python3.9/site-packages/ipykernel/ipkernel.py:283: DeprecationWarning: `should_run_async` will not call `transform_cell` automatically in the future. Please pass the result to `transformed_cell` argument and any exception that happen during thetransform in `preprocessing_exc_tuple` in IPython 7.17 and above.\n  and should_run_async(code)\n"
     ]
    }
   ],
   "source": [
    "y_ = reg.predict(X)"
   ]
  },
  {
   "cell_type": "code",
   "execution_count": 18,
   "metadata": {},
   "outputs": [
    {
     "output_type": "stream",
     "name": "stdout",
     "text": [
      "R2 score = 0.38\n",
      "/home/sylvia/projects/air-pollution/air-pollution-env/lib/python3.9/site-packages/ipykernel/ipkernel.py:283: DeprecationWarning: `should_run_async` will not call `transform_cell` automatically in the future. Please pass the result to `transformed_cell` argument and any exception that happen during thetransform in `preprocessing_exc_tuple` in IPython 7.17 and above.\n",
      "  and should_run_async(code)\n"
     ]
    }
   ],
   "source": [
    "print(\"R2 score =\", round(sm.r2_score(y, y_), 2))"
   ]
  },
  {
   "cell_type": "code",
   "execution_count": null,
   "metadata": {},
   "outputs": [],
   "source": []
  }
 ]
}